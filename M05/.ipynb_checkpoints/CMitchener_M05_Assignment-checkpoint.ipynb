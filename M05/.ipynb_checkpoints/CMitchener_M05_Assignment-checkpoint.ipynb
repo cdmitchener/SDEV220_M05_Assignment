{
 "cells": [
  {
   "cell_type": "markdown",
   "id": "206772eb",
   "metadata": {},
   "source": [
    "In the test_list_int() function, the test checks to see if 1 + 2 + 3 == 6. The program knows to add the values from the list because it has imported the function sum() from the my_sum.py file. The sum of the list of 1, 2, and 3 does equal 6, and so it returns as OK.\n",
    "\n",
    "In the function test_list_fraction(), the test checks to see if 1/4 + 1/4 + 2/5 == 1. The program knows to read the values as a fraction because we have imported Fraction from the fractions library. It also knows to add the values from the list because it has imported the function sum() from the my_sum.py file. The fractions summed together do not equal 1, so it returns an error."
   ]
  }
 ],
 "metadata": {
  "kernelspec": {
   "display_name": "Python 3 (ipykernel)",
   "language": "python",
   "name": "python3"
  },
  "language_info": {
   "codemirror_mode": {
    "name": "ipython",
    "version": 3
   },
   "file_extension": ".py",
   "mimetype": "text/x-python",
   "name": "python",
   "nbconvert_exporter": "python",
   "pygments_lexer": "ipython3",
   "version": "3.9.12"
  }
 },
 "nbformat": 4,
 "nbformat_minor": 5
}
