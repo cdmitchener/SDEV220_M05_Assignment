{
 "cells": [
  {
   "cell_type": "code",
   "execution_count": 1,
   "id": "f7c5cb0c",
   "metadata": {},
   "outputs": [
    {
     "name": "stdout",
     "output_type": "stream",
     "text": [
      "Enter student's last name: Doe\n",
      "Enter student's first name: John\n",
      "Enter student's GPA: 4\n",
      "John Doe has made the Honor Roll and the Dean's List.\n",
      "Enter student's last name: Doe\n",
      "Enter student's first name: John\n",
      "Enter student's GPA: 3.25\n",
      "John Doe has made the Honor Roll.\n",
      "Enter student's last name: Doe\n",
      "Enter student's first name: John\n",
      "Enter student's GPA: 3.5\n",
      "John Doe has made the Honor Roll and the Dean's List.\n",
      "Enter student's last name: Doe\n",
      "Enter student's first name: John\n",
      "Enter student's GPA: 3.24\n",
      "John Doe did not make the Honor Roll.\n",
      "Enter student's last name: ZZZ\n"
     ]
    }
   ],
   "source": [
    "# Chelsea Mitchener\n",
    "# Dean's List and/or Honor Roll Checker\n",
    "# ---------------------------------\n",
    "# Enter a student's last name, first name, and GPA as a float.\n",
    "# If the student's GPA is 3.5 or greater and, if so, print a message saying that the student has made the Dean's List.\n",
    "# If the student's GPA is 3.25 or greater and, if so, print a message saying that the studnet has made the Honor Roll.\n",
    "# When finished please enter \"ZZZ\" as the student's last name.\n",
    "\n",
    "\n",
    "# Initialize last_name variable\n",
    "last_name = \"\"\n",
    "\n",
    "# While loop will exit and the application will close if the user enters \"ZZZ\" when prompted for a last name\n",
    "while last_name != \"ZZZ\":\n",
    "    last_name = input(\"Enter student's last name: \")\n",
    "\n",
    "    # Continue if the last name is not \"ZZZ\". If it is then close the application\n",
    "    if last_name != \"ZZZ\":\n",
    "        first_name = input(\"Enter student's first name: \")\n",
    "        gpa = float(input(\"Enter student's GPA: \"))\n",
    "        \n",
    "        # If-elif-else to check GPA\n",
    "        if gpa >= 3.5:\n",
    "            print(f\"{first_name} {last_name} has made the Honor Roll and the Dean's List.\")\n",
    "            \n",
    "        elif gpa >= 3.25:\n",
    "            print(f\"{first_name} {last_name} has made the Honor Roll.\")\n",
    "            \n",
    "        else:\n",
    "            print(f\"{first_name} {last_name} did not make the Honor Roll.\")\n",
    "\n",
    "    else:\n",
    "        quit()"
   ]
  }
 ],
 "metadata": {
  "kernelspec": {
   "display_name": "Python 3 (ipykernel)",
   "language": "python",
   "name": "python3"
  },
  "language_info": {
   "codemirror_mode": {
    "name": "ipython",
    "version": 3
   },
   "file_extension": ".py",
   "mimetype": "text/x-python",
   "name": "python",
   "nbconvert_exporter": "python",
   "pygments_lexer": "ipython3",
   "version": "3.9.12"
  },
  "vscode": {
   "interpreter": {
    "hash": "369f2c481f4da34e4445cda3fffd2e751bd1c4d706f27375911949ba6bb62e1c"
   }
  }
 },
 "nbformat": 4,
 "nbformat_minor": 5
}
