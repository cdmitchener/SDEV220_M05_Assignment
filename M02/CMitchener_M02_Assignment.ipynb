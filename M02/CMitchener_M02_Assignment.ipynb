{
 "cells": [
  {
   "cell_type": "markdown",
   "id": "4273e391",
   "metadata": {},
   "source": [
    "# 4.1 Exercise"
   ]
  },
  {
   "cell_type": "code",
   "execution_count": 1,
   "id": "7b2f8045",
   "metadata": {},
   "outputs": [
    {
     "name": "stdout",
     "output_type": "stream",
     "text": [
      "Too low\n"
     ]
    }
   ],
   "source": [
    "secret = 9\n",
    "guess = 7\n",
    "\n",
    "if guess < secret:\n",
    "    print(\"Too low\")\n",
    "elif guess > secret:\n",
    "    print(\"Too high\")\n",
    "else:\n",
    "    print(\"Just right\")"
   ]
  },
  {
   "cell_type": "code",
   "execution_count": 2,
   "id": "79968612",
   "metadata": {},
   "outputs": [
    {
     "name": "stdout",
     "output_type": "stream",
     "text": [
      "Too high\n"
     ]
    }
   ],
   "source": [
    "secret = 9\n",
    "guess = 10\n",
    "\n",
    "if guess < secret:\n",
    "    print(\"Too low\")\n",
    "elif guess > secret:\n",
    "    print(\"Too high\")\n",
    "else:\n",
    "    print(\"Just right\")"
   ]
  },
  {
   "cell_type": "code",
   "execution_count": 3,
   "id": "94c09b98",
   "metadata": {},
   "outputs": [
    {
     "name": "stdout",
     "output_type": "stream",
     "text": [
      "Just right\n"
     ]
    }
   ],
   "source": [
    "secret = 9\n",
    "guess = 9\n",
    "\n",
    "if guess < secret:\n",
    "    print(\"Too low\")\n",
    "elif guess > secret:\n",
    "    print(\"Too high\")\n",
    "else:\n",
    "    print(\"Just right\")"
   ]
  },
  {
   "cell_type": "markdown",
   "id": "caa80c64",
   "metadata": {},
   "source": [
    "# 4.2 Exercise"
   ]
  },
  {
   "cell_type": "code",
   "execution_count": 4,
   "id": "8410fc50",
   "metadata": {},
   "outputs": [
    {
     "name": "stdout",
     "output_type": "stream",
     "text": [
      "Pea\n"
     ]
    }
   ],
   "source": [
    "small = True\n",
    "green = True\n",
    "\n",
    "if small:\n",
    "    if green:\n",
    "        print(\"Pea\")\n",
    "    else:\n",
    "        print(\"Cherry\")\n",
    "\n",
    "else:\n",
    "    if green:\n",
    "        print(\"Watermelon\")\n",
    "    else:\n",
    "        print(\"Pumpkin\")"
   ]
  },
  {
   "cell_type": "code",
   "execution_count": 5,
   "id": "74c6fe8f",
   "metadata": {},
   "outputs": [
    {
     "name": "stdout",
     "output_type": "stream",
     "text": [
      "Cherry\n"
     ]
    }
   ],
   "source": [
    "small = True\n",
    "green = False\n",
    "\n",
    "if small:\n",
    "    if green:\n",
    "        print(\"Pea\")\n",
    "    else:\n",
    "        print(\"Cherry\")\n",
    "\n",
    "else:\n",
    "    if green:\n",
    "        print(\"Watermelon\")\n",
    "    else:\n",
    "        print(\"Pumpkin\")"
   ]
  },
  {
   "cell_type": "code",
   "execution_count": 6,
   "id": "35bb268c",
   "metadata": {},
   "outputs": [
    {
     "name": "stdout",
     "output_type": "stream",
     "text": [
      "Watermelon\n"
     ]
    }
   ],
   "source": [
    "small = False\n",
    "green = True\n",
    "\n",
    "if small:\n",
    "    if green:\n",
    "        print(\"Pea\")\n",
    "    else:\n",
    "        print(\"Cherry\")\n",
    "\n",
    "else:\n",
    "    if green:\n",
    "        print(\"Watermelon\")\n",
    "    else:\n",
    "        print(\"Pumpkin\")"
   ]
  },
  {
   "cell_type": "code",
   "execution_count": 7,
   "id": "9ba374ce",
   "metadata": {},
   "outputs": [
    {
     "name": "stdout",
     "output_type": "stream",
     "text": [
      "Pumpkin\n"
     ]
    }
   ],
   "source": [
    "small = False\n",
    "green = False\n",
    "\n",
    "if small:\n",
    "    if green:\n",
    "        print(\"Pea\")\n",
    "    else:\n",
    "        print(\"Cherry\")\n",
    "\n",
    "else:\n",
    "    if green:\n",
    "        print(\"Watermelon\")\n",
    "    else:\n",
    "        print(\"Pumpkin\")"
   ]
  },
  {
   "cell_type": "markdown",
   "id": "48eec99c",
   "metadata": {},
   "source": [
    "# 6.1 Excercise"
   ]
  },
  {
   "cell_type": "code",
   "execution_count": 9,
   "id": "c8ea6d7e",
   "metadata": {},
   "outputs": [
    {
     "data": {
      "text/plain": [
       "[3, 2, 1, 0]"
      ]
     },
     "execution_count": 9,
     "metadata": {},
     "output_type": "execute_result"
    }
   ],
   "source": [
    "list(range(3, -1, -1))"
   ]
  },
  {
   "cell_type": "markdown",
   "id": "62ec79c2",
   "metadata": {},
   "source": [
    "# 6.2 Exercise"
   ]
  },
  {
   "cell_type": "code",
   "execution_count": 11,
   "id": "c262ccea",
   "metadata": {},
   "outputs": [
    {
     "name": "stdout",
     "output_type": "stream",
     "text": [
      "Too low\n",
      "Too low\n",
      "Too low\n",
      "Too low\n",
      "Too low\n",
      "Too low\n",
      "Found it!\n"
     ]
    }
   ],
   "source": [
    "guess_me = 7\n",
    "number = 1\n",
    "\n",
    "while number <= 7:\n",
    "    if number < guess_me:\n",
    "        print(\"Too low\")\n",
    "    elif number == guess_me:\n",
    "        print(\"Found it!\")\n",
    "    else:\n",
    "        print(\"Oops\")\n",
    "    number += 1"
   ]
  },
  {
   "cell_type": "markdown",
   "id": "82da707a",
   "metadata": {},
   "source": [
    "# 6.3 Exercise"
   ]
  },
  {
   "cell_type": "code",
   "execution_count": 16,
   "id": "2627bd90",
   "metadata": {},
   "outputs": [
    {
     "name": "stdout",
     "output_type": "stream",
     "text": [
      "Oops\n",
      "Oops\n",
      "Oops\n",
      "Oops\n",
      "Oops\n",
      "5 5\n",
      "Found it!\n",
      "5 6\n",
      "Too low\n",
      "5 7\n",
      "Too low\n",
      "5 8\n",
      "Too low\n",
      "5 9\n",
      "Too low\n"
     ]
    }
   ],
   "source": [
    "guess_me = 5\n",
    "\n",
    "for number in range(10):\n",
    "    if number > guess_me:\n",
    "        print(guess_me, number)\n",
    "        print(\"Too low\")\n",
    "    elif guess_me == number:\n",
    "        print(guess_me, number)\n",
    "        print(\"Found it!\")\n",
    "    else:\n",
    "        print(\"Oops\")"
   ]
  }
 ],
 "metadata": {
  "kernelspec": {
   "display_name": "Python 3 (ipykernel)",
   "language": "python",
   "name": "python3"
  },
  "language_info": {
   "codemirror_mode": {
    "name": "ipython",
    "version": 3
   },
   "file_extension": ".py",
   "mimetype": "text/x-python",
   "name": "python",
   "nbconvert_exporter": "python",
   "pygments_lexer": "ipython3",
   "version": "3.9.12"
  }
 },
 "nbformat": 4,
 "nbformat_minor": 5
}
