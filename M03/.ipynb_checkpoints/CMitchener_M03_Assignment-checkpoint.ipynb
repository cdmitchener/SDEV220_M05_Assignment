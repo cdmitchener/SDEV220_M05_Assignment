{
 "cells": [
  {
   "cell_type": "markdown",
   "id": "8fb5c919",
   "metadata": {},
   "source": [
    "# 7.4\n",
    "Make a list called things with these three strings as elements: \"mozzarella\", \"cinderella\", \"salmonella\"."
   ]
  },
  {
   "cell_type": "code",
   "execution_count": 1,
   "id": "44be95de",
   "metadata": {},
   "outputs": [],
   "source": [
    "things = ['mozzarella', 'cinderella', 'salmonella']"
   ]
  },
  {
   "cell_type": "markdown",
   "id": "d22d7d6d",
   "metadata": {},
   "source": [
    "# 7.5\n",
    "Capitalize the element in things that refers to a person and then print the list. Did it change the element in the list?"
   ]
  },
  {
   "cell_type": "code",
   "execution_count": 2,
   "id": "970afd4e",
   "metadata": {},
   "outputs": [
    {
     "data": {
      "text/plain": [
       "['mozzarella', 'Cinderella', 'salmonella']"
      ]
     },
     "execution_count": 2,
     "metadata": {},
     "output_type": "execute_result"
    }
   ],
   "source": [
    "things = ['mozzarella', 'cinderella', 'salmonella']\n",
    "things[1] = 'Cinderella'\n",
    "list(things)"
   ]
  },
  {
   "cell_type": "markdown",
   "id": "2d0cf7e8",
   "metadata": {},
   "source": [
    "# 7.6\n",
    "Make the cheesy element of things all uppercase and then print the list."
   ]
  },
  {
   "cell_type": "code",
   "execution_count": 3,
   "id": "9198a671",
   "metadata": {},
   "outputs": [
    {
     "data": {
      "text/plain": [
       "['MOZARELLA', 'cinderella', 'salmonella']"
      ]
     },
     "execution_count": 3,
     "metadata": {},
     "output_type": "execute_result"
    }
   ],
   "source": [
    "things = ['mozzarella', 'cinderella', 'salmonella']\n",
    "things[0] = 'MOZARELLA'\n",
    "list(things)"
   ]
  },
  {
   "cell_type": "markdown",
   "id": "901ef1c2",
   "metadata": {},
   "source": [
    "# 7.7\n",
    "Delete the disease element from things, collect your Nobel Prize, and print the list."
   ]
  },
  {
   "cell_type": "code",
   "execution_count": 4,
   "id": "35b589e2",
   "metadata": {},
   "outputs": [
    {
     "name": "stdout",
     "output_type": "stream",
     "text": [
      "You've eradicated samonella. Here's your Nobel Prize!\n"
     ]
    },
    {
     "data": {
      "text/plain": [
       "['mozzarella', 'cinderella']"
      ]
     },
     "execution_count": 4,
     "metadata": {},
     "output_type": "execute_result"
    }
   ],
   "source": [
    "things = ['mozzarella', 'cinderella', 'salmonella']\n",
    "things.remove('salmonella')\n",
    "print(\"You've eradicated samonella. Here's your Nobel Prize!\")\n",
    "list(things)"
   ]
  },
  {
   "cell_type": "markdown",
   "id": "b349823c",
   "metadata": {},
   "source": [
    "# 9.1\n",
    "Define a function called good() that returns the following list: ['Harry', 'Ron', 'Hermione']."
   ]
  },
  {
   "cell_type": "code",
   "execution_count": 5,
   "id": "8bf4d3f1",
   "metadata": {},
   "outputs": [
    {
     "data": {
      "text/plain": [
       "['Harry', 'Ron', 'Hermione']"
      ]
     },
     "execution_count": 5,
     "metadata": {},
     "output_type": "execute_result"
    }
   ],
   "source": [
    "def good():\n",
    "    hogwarts_heroes = ['Harry', 'Ron', 'Hermione']\n",
    "    return hogwarts_heroes\n",
    "\n",
    "good()"
   ]
  },
  {
   "cell_type": "markdown",
   "id": "e44a9a3e",
   "metadata": {},
   "source": [
    "# 9.2\n",
    "Define a generator function called get_odds() that returns the odd numbers from range(10). Use a for loop to find and print the third value returned."
   ]
  },
  {
   "cell_type": "code",
   "execution_count": 6,
   "id": "6d48a52d",
   "metadata": {},
   "outputs": [
    {
     "name": "stdout",
     "output_type": "stream",
     "text": [
      "5\n"
     ]
    }
   ],
   "source": [
    "# Define get_odds() function... mimic range function as a generator\n",
    "def get_odds(first, last, step):\n",
    "    number = first\n",
    "    while (number < last):\n",
    "        yield number\n",
    "        number += step\n",
    "\n",
    "# Generator object\n",
    "c = get_odds(0, 10, 1)\n",
    "\n",
    "# Initialize list that will hold odd numbers through range\n",
    "odd_numbers = []\n",
    "\n",
    "# Iterate over generator object and store only odd numbers in the odd_numbers[] list\n",
    "for i in c:\n",
    "    if (i % 2 == 1):\n",
    "        odd_numbers.append(i)\n",
    "# Print the third value in the list\n",
    "print(odd_numbers[2])"
   ]
  }
 ],
 "metadata": {
  "kernelspec": {
   "display_name": "Python 3 (ipykernel)",
   "language": "python",
   "name": "python3"
  },
  "language_info": {
   "codemirror_mode": {
    "name": "ipython",
    "version": 3
   },
   "file_extension": ".py",
   "mimetype": "text/x-python",
   "name": "python",
   "nbconvert_exporter": "python",
   "pygments_lexer": "ipython3",
   "version": "3.9.12"
  }
 },
 "nbformat": 4,
 "nbformat_minor": 5
}
