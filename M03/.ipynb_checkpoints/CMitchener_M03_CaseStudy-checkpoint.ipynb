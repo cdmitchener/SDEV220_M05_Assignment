{
 "cells": [
  {
   "cell_type": "markdown",
   "id": "32b40b7a",
   "metadata": {},
   "source": [
    "# M03 Case Study\n",
    "Write a Python app that has the following classes:\n",
    "\n",
    "1. A super class called Vehicle, which contains an attribute for vehicle type, such as car, truck, plane, boat, or a broomstick.\n",
    "2. A class called Automobile which will inherit the attributes from Vehicle and also contain the following attributes:\n",
    "        - year\n",
    "        - make\n",
    "        - model\n",
    "        - doors (2 or 4)\n",
    "        - roof (solid or sun roof).\n",
    "3. Write an app that will accept user input for a car. The app will store \"car\" into the vehicle type in your Vehicle super class. \n",
    "4. The app will then ask the user for the year, make, model, doors, and type of roof and store the data in the attributes above.\n",
    "5. The app will then output the data in an easy-to-read and understandable format, such as this:\n",
    "         Vehicle type: car\n",
    "         Year: 2022\n",
    "         Make: Toyota\n",
    "         Model: Corolla\n",
    "         Number of doors: 4\n",
    "         Type of roof: sun roof"
   ]
  },
  {
   "cell_type": "code",
   "execution_count": 1,
   "id": "6882a6d9",
   "metadata": {},
   "outputs": [
    {
     "name": "stdout",
     "output_type": "stream",
     "text": [
      "What is the vehicle type?: truck\n",
      "What is the truck's year?: 2022\n",
      "What is the 2022 truck's make?: Ford\n",
      "What is the model of the 2022 Ford truck?: F-150\n",
      "How many doors does the 2022 Ford F-150 have? (2 or 4): 4\n",
      "What type of roof does the 2022 Ford F-150 have? (solid or sun roof): sun roof\n",
      "\n",
      "VEHICLE REPORT\n",
      "----------------------\n",
      "Vehicle type: truck\n",
      "Year: 2022\n",
      "Make: Ford\n",
      "Model: F-150\n",
      "Number of doors: 4\n",
      "Type of roof: sun roof\n"
     ]
    }
   ],
   "source": [
    "# Chelsea Mitchener\n",
    "\n",
    "# Program name: Basic Vehicle Specifications Report\n",
    "\n",
    "# Description: The program will prompt the user for the vehicle type, year, make, model, doors, and roof type.\n",
    "# It will then provide output of the user's input for those attributes as a report.\n",
    "\n",
    "# Variables:\n",
    "        # type = the type of vehicle (e.g. car, truck, suv, etc.)\n",
    "        # year = the year of the vehicle\n",
    "        # make = the make of the vehicle (e.g. Ford, Chevrolet, Honda, Porsche, etc.)\n",
    "        # model = the model of the vehicle (e.g. Escape, Tahoe, Civic, Cayenne, etc.)\n",
    "        # doors = how many doors the vehicle has (i.e. 2 or 4)\n",
    "        # roof = the type of roof the vehicle has (i.e. solid or sun roof)\n",
    "        \n",
    "# -------------------------------------------------------------------------------------------------------------\n",
    "        \n",
    "# Super class\n",
    "class Vehicle():\n",
    "    def __init__(self, type):\n",
    "        self.type = type\n",
    "\n",
    "class Automobile(Vehicle):\n",
    "    def __init__(self, type, year, make, model, doors, roof):\n",
    "        # Inherit type attribute from Vehicle super class\n",
    "        super().__init__(type)\n",
    "        # Automobile class attributes\n",
    "        self.year = year\n",
    "        self.make = make\n",
    "        self.model = model\n",
    "        self.doors = doors\n",
    "        self.roof = roof\n",
    "\n",
    "# User input variables\n",
    "# In a real application, we would create conditions to only accept appropriate responses.\n",
    "type = str(input(\"What is the vehicle type?: \"))\n",
    "year = int(input(f\"What is the {type}'s year?: \"))\n",
    "make = str(input(f\"What is the {year} {type}'s make?: \"))\n",
    "model = str(input(f\"What is the model of the {year} {make} {type}?: \"))\n",
    "doors = int(input(f\"How many doors does the {year} {make} {model} have? (2 or 4): \"))\n",
    "roof = str(input(f\"What type of roof does the {year} {make} {model} have? (solid or sun roof): \"))\n",
    "\n",
    "# Output user input data as a report\n",
    "print(\"\\nVEHICLE REPORT\"\n",
    "      \"\\n----------------------\\n\"\n",
    "      f\"Vehicle type: {type}\" + \"\\n\"\n",
    "      f\"Year: {year}\" + \"\\n\"\n",
    "      f\"Make: {make}\" + \"\\n\"\n",
    "      f\"Model: {model}\" + \"\\n\"\n",
    "      f\"Number of doors: {doors}\" + \"\\n\"\n",
    "      f\"Type of roof: {roof}\")"
   ]
  },
  {
   "cell_type": "code",
   "execution_count": null,
   "id": "ad6f94dc",
   "metadata": {},
   "outputs": [],
   "source": []
  }
 ],
 "metadata": {
  "kernelspec": {
   "display_name": "Python 3 (ipykernel)",
   "language": "python",
   "name": "python3"
  },
  "language_info": {
   "codemirror_mode": {
    "name": "ipython",
    "version": 3
   },
   "file_extension": ".py",
   "mimetype": "text/x-python",
   "name": "python",
   "nbconvert_exporter": "python",
   "pygments_lexer": "ipython3",
   "version": "3.9.12"
  }
 },
 "nbformat": 4,
 "nbformat_minor": 5
}
